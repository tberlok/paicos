{
 "cells": [
  {
   "attachments": {},
   "cell_type": "markdown",
   "id": "43b2f4ef-c9c3-46ce-b4b2-a822c3600e11",
   "metadata": {},
   "source": [
    "# Some examples of using Paicos\n",
    "\n",
    "This script shows how to\n",
    "\n",
    "- load data\n",
    "- make projections and slices\n",
    "- save them as an 'ArepoImage'\n",
    "- how to convert the Arepo data from comoving code units to physical values in various unit systems\n"
   ]
  },
  {
   "attachments": {},
   "cell_type": "markdown",
   "id": "b5ffecf2-3b1f-4616-b394-2b181c0dd874",
   "metadata": {},
   "source": [
    "## Compilation\n",
    "The first step is to compile the code, this only needs to be done the first time you use Paicos (uncomment all four lines and replace the path to your own cloned version)"
   ]
  },
  {
   "cell_type": "code",
   "execution_count": null,
   "id": "8dd135d5-5106-419c-9a56-7211e0790c5a",
   "metadata": {},
   "outputs": [],
   "source": [
    "#%%bash\n",
    "#cd /llust21/berlok/paicos\n",
    "#make clean\n",
    "#make"
   ]
  },
  {
   "attachments": {},
   "cell_type": "markdown",
   "id": "76db5702-5cb4-433e-af1a-8eef178e9116",
   "metadata": {},
   "source": [
    "## Loading arepo snapshots\n",
    "\n",
    "We load a zoom factor 12 galaxy cluster simulation below"
   ]
  },
  {
   "cell_type": "code",
   "execution_count": 3,
   "id": "96daabc9-0510-4667-ac79-f9c3def959a7",
   "metadata": {},
   "outputs": [
    {
     "name": "stdout",
     "output_type": "stream",
     "text": [
      "\n",
      "Keys for PartType0 in the hdf5 file:\n",
      "0_AllowRefinement\n",
      "0_CenterOfMass\n",
      "0_Coordinates\n",
      "0_Density\n",
      "0_ElectronAbundance\n",
      "0_EnergyDissipation\n",
      "0_GFM_AGNRadiation\n",
      "0_GFM_CoolingRate\n",
      "0_GFM_Metallicity\n",
      "0_GFM_Metals\n",
      "0_GFM_WindDMVelDisp\n",
      "0_GFM_WindHostHaloMass\n",
      "0_HighResGasMass\n",
      "0_InternalEnergy\n",
      "0_Machnumber\n",
      "0_MagneticField\n",
      "0_MagneticFieldDivergence\n",
      "0_MagneticFieldDivergenceAlternative\n",
      "0_Masses\n",
      "0_NeutralHydrogenAbundance\n",
      "0_ParticleIDs\n",
      "0_Potential\n",
      "0_StarFormationRate\n",
      "0_SubfindDMDensity\n",
      "0_SubfindDensity\n",
      "0_SubfindHsml\n",
      "0_SubfindVelDisp\n",
      "0_Velocities\n",
      "0_VelocityGradient\n",
      "\n",
      "Possible derived variables are:\n",
      "0_Enstrophy\n",
      "0_EnstrophyTimesMasses\n",
      "0_GFM_MetallicityTimesMasses\n",
      "0_MachnumberTimesEnergyDissipation\n",
      "0_MagneticFieldNorm\n",
      "0_MagneticFieldNormSquaredTimesVolume\n",
      "0_MagneticFieldSquared\n",
      "0_MagneticFieldSquaredTimesVolume\n",
      "0_MagneticFieldStrength\n",
      "0_MeanMolecularWeight\n",
      "0_NumberDensity\n",
      "0_Pressure\n",
      "0_PressureTimesVolume\n",
      "0_TM2\n",
      "0_Temperatures\n",
      "0_TemperaturesTimesMasses\n",
      "0_VelocityCurvature\n",
      "0_VelocityMagnitude\n",
      "0_VelocityNorm\n",
      "0_Volume\n"
     ]
    },
    {
     "name": "stderr",
     "output_type": "stream",
     "text": [
      "/home/lena/analysis/paicos/paicos/readers/arepo_snap.py:311: UserWarning: Deleting the user function: <function JetTracerTimesVolume at 0x7faa7260cc10> because its dependency: ['0_Jet_Tracer'] is missing\n",
      "  warnings.warn(msg)\n"
     ]
    }
   ],
   "source": [
    "import paicos as pa\n",
    "import numpy as np\n",
    "# simfolder = '/llust21/cosmo-plasm/zoom-simulations/halo_0003/gal-form/zoom12/'\n",
    "simfolder = '/home/lena/analysis/paicos/data/'\n",
    "\n",
    "# A snapshot object\n",
    "# snap = pa.Snapshot(simfolder + 'output', 130)\n",
    "snap = pa.Snapshot(simfolder, 247)\n",
    "\n",
    "# The center of the most massive Friends-of-friends group in the simulation\n",
    "center = snap.Cat.Group['GroupPos'][0]\n",
    "\n",
    "# The available fields for a PartType can be found as shown below\n",
    "keys = snap.info(0)\n",
    "\n",
    "# by starting to type and using tab-completion, i.e., snap['0_  and then hit tab"
   ]
  },
  {
   "attachments": {},
   "cell_type": "markdown",
   "id": "0f4c6c0f-1115-404f-bd5b-b834b3dbee34",
   "metadata": {},
   "source": [
    "We can look at some of snaps attributes:"
   ]
  },
  {
   "cell_type": "code",
   "execution_count": 6,
   "id": "d9ab057a-68a4-46dd-a14d-6481ca59dc17",
   "metadata": {},
   "outputs": [
    {
     "name": "stdout",
     "output_type": "stream",
     "text": [
      "13.802234761023938 Gyr\n",
      "3.552713678800501e-15 Gyr\n",
      "LambdaCDM(H0=67.32117 km / (Mpc s), Om0=0.31582309, Ode0=0.68417691, Tcmb0=0.0 K, Neff=3.04, m_nu=None, Ob0=0.04938682)\n"
     ]
    },
    {
     "data": {
      "text/latex": [
       "$[1000000,~1000000,~1000000] \\;\\mathrm{arepo\\_length}\\times\\mathrm{\\frac{a}{h}}$"
      ],
      "text/plain": [
       "<PaicosQuantity [1000000., 1000000., 1000000.] arepo_length small_a / small_h>"
      ]
     },
     "execution_count": 6,
     "metadata": {},
     "output_type": "execute_result"
    }
   ],
   "source": [
    "print(snap.age)\n",
    "print(snap.lookback_time)\n",
    "print(snap.cosmo)\n",
    "snap.box_size\n",
    "# print(snap.Config)\n",
    "# print(snap.Parameters)\n",
    "# print(snap.Header)\n",
    "# print(snap.z)"
   ]
  },
  {
   "attachments": {},
   "cell_type": "markdown",
   "id": "6a7205e7-779f-4d3e-922a-d799f7ee2efe",
   "metadata": {},
   "source": [
    "\n",
    "Loading of data can be done using function calls or by trying to access them explicitly."
   ]
  },
  {
   "cell_type": "code",
   "execution_count": 7,
   "id": "f926a39f-0967-49ca-837c-18bf0e57e3ab",
   "metadata": {},
   "outputs": [
    {
     "data": {
      "text/plain": [
       "{'0_Coordinates': <PaicosQuantity [[398974.38664031, 211664.99241881, 629966.18799266],\n",
       "                  [398976.06220306, 211673.62420764, 629972.16363372],\n",
       "                  [398964.31625223, 211694.87219766, 629968.63209753],\n",
       "                  ...,\n",
       "                  [393981.6486238 , 216358.23435912, 632567.69214245],\n",
       "                  [413556.57386753, 205239.91933755, 632523.87499566],\n",
       "                  [387187.82099398, 221055.93044903, 631203.24971741]] arepo_length small_a / small_h>,\n",
       " '0_Density': <PaicosQuantity [9.72843845e-04, 9.07135545e-04, 8.41988483e-04, ...,\n",
       "                  2.11899547e-08, 8.11731959e-10, 2.60725130e-08] arepo_density small_h2 / small_a3>,\n",
       " '0_MagneticField': <PaicosQuantity [[-5.34967659e-03,  9.29034129e-03,  1.30361943e-02],\n",
       "                  [ 1.09101562e-02,  2.09588166e-02, -1.89505350e-02],\n",
       "                  [-1.48704611e-02, -2.39538439e-02,  2.79470757e-02],\n",
       "                  ...,\n",
       "                  [-1.05035404e-07,  1.10529356e-07,  1.76581992e-07],\n",
       "                  [-1.62882208e-09, -4.59052019e-10,  2.83548229e-09],\n",
       "                  [-6.45020890e-08, -1.59650604e-08, -1.15021006e-08]] arepo_pressure(1/2) small_h / small_a2>}"
      ]
     },
     "execution_count": 7,
     "metadata": {},
     "output_type": "execute_result"
    }
   ],
   "source": [
    "# Load some variables from the PartType 0 (gas variables) \n",
    "\n",
    "# You can explicitly load using function call:\n",
    "snap.load_data(0, 'Coordinates')\n",
    "snap['0_Coordinates']\n",
    "\n",
    "# But is much easier to just do it like this:\n",
    "snap['0_Density']\n",
    "snap['0_MagneticField']\n",
    "\n",
    "# snap\n",
    "snap"
   ]
  },
  {
   "cell_type": "code",
   "execution_count": 8,
   "id": "5f146ddf-fad5-4037-9969-a0912edf0345",
   "metadata": {},
   "outputs": [
    {
     "data": {
      "text/latex": [
       "$[0.00054342005,~0.00051208827,~0.00058351437,~\\dots,~2.3875531 \\times 10^{-12},~6.4040185 \\times 10^{-13},~2.3547192 \\times 10^{-12}] \\;\\mathrm{arepo\\_mass}\\times\\mathrm{\\frac{1}{h}}$"
      ],
      "text/plain": [
       "<PaicosQuantity [5.43420047e-04, 5.12088270e-04, 5.83514372e-04, ...,\n",
       "                 2.38755311e-12, 6.40401851e-13, 2.35471915e-12] arepo_mass / small_h>"
      ]
     },
     "execution_count": 8,
     "metadata": {},
     "output_type": "execute_result"
    }
   ],
   "source": [
    "snap['0_GFM_MetallicityTimesMasses']"
   ]
  },
  {
   "attachments": {},
   "cell_type": "markdown",
   "id": "31dc6bbc-16ef-4963-8fff-86e1fc657dba",
   "metadata": {},
   "source": [
    "This loads a PaicosQuantity (basically a subclass of an astropy quantity). Here we can see the units used in the simulation. small_h and small_a are the reduced Hubble parameter and the scale factor, respectively. These quantities have the following useful methods:"
   ]
  },
  {
   "cell_type": "code",
   "execution_count": 9,
   "id": "3aba6d3e-69dd-4091-b575-a5633a593b9e",
   "metadata": {},
   "outputs": [
    {
     "name": "stdout",
     "output_type": "stream",
     "text": [
      "rho[0] in CGS:\t 6.586066423538464e-25 g small_h2 / (cm3 small_a3)\n",
      "rho[0] in SI:\t 6.586066423538463e-22 kg small_h2 / (m3 small_a3)\n",
      "rho[0] in 'astro' units:\t 9731321.74428584 small_h2 solMass / (kpc3 small_a3)\n",
      "rho[0] in Msun/au^3:\t 1.1089103378991942e-18 small_h2 solMass / (AU3 small_a3) \n",
      "\n",
      "\n",
      "rho[0] without h:\t 0.00044090644374425626 arepo_density / small_a3\n",
      "rho[0] without a and h:\t 0.00044090644374425653 arepo_density \n",
      "\n",
      "\n",
      "$\\rho\\;a^{-3}h^{2}\\; \\left[\\mathrm{arepo\\_density}\\right]$\n",
      "$\\rho\\;a^{-3}h^{2}\\; \\left[\\mathrm{M_{\\odot}}\\;\\mathrm{kpc}^{-3}\\right]$\n"
     ]
    }
   ],
   "source": [
    "# Unit conversion\n",
    "rho = snap['0_Density']\n",
    "print('rho[0] in CGS:\\t', rho[0].cgs)\n",
    "print('rho[0] in SI:\\t', rho[0].si)\n",
    "print(\"rho[0] in 'astro' units:\\t\", rho[0].astro)\n",
    "print(\"rho[0] in Msun/au^3:\\t\", rho[0].to('Msun/au3'), '\\n\\n')\n",
    "\n",
    "# Get rid of h factors\n",
    "print('rho[0] without h:\\t', rho[0].no_small_h)\n",
    "\n",
    "# Get rid of both a and h factors\n",
    "print('rho[0] without a and h:\\t', rho[0].to_physical, '\\n\\n')\n",
    "\n",
    "# Get a label for use in plots\n",
    "print(rho.label(r'\\rho'))\n",
    "print(rho.astro.label(r'\\rho'))"
   ]
  },
  {
   "attachments": {},
   "cell_type": "markdown",
   "id": "5c087972-3d83-408a-9913-f2c360dfb752",
   "metadata": {},
   "source": [
    "Please note that all these methods return a new object without modifying the original data. Modification can be done by overwriting, e.g., like this:"
   ]
  },
  {
   "cell_type": "code",
   "execution_count": 10,
   "id": "68e6810d-4344-4243-861d-112fe9ac10ae",
   "metadata": {},
   "outputs": [
    {
     "data": {
      "text/latex": [
       "$[0.00044090644,~0.00041112652,~0.00038160096,~\\dots,~9.603584 \\times 10^{-9},~3.6788828 \\times 10^{-10},~1.1816428 \\times 10^{-8}] \\;\\mathrm{arepo\\_density}$"
      ],
      "text/plain": [
       "<PaicosQuantity [4.40906444e-04, 4.11126523e-04, 3.81600963e-04, ...,\n",
       "                 9.60358397e-09, 3.67888283e-10, 1.18164277e-08] arepo_density>"
      ]
     },
     "execution_count": 10,
     "metadata": {},
     "output_type": "execute_result"
    }
   ],
   "source": [
    "rho = rho.to_physical\n",
    "rho"
   ]
  },
  {
   "cell_type": "code",
   "execution_count": 11,
   "id": "153ebf1e-f8b9-4ae9-8c4f-a1ba3bf2af7d",
   "metadata": {},
   "outputs": [
    {
     "data": {
      "text/latex": [
       "$\\mathrm{arepo\\_density}$"
      ],
      "text/plain": [
       "Unit(\"arepo_density\")"
      ]
     },
     "execution_count": 11,
     "metadata": {},
     "output_type": "execute_result"
    }
   ],
   "source": [
    "rho.unit"
   ]
  },
  {
   "attachments": {},
   "cell_type": "markdown",
   "id": "e285ebd7-9f3f-4943-ab32-f84410f014f1",
   "metadata": {},
   "source": [
    "You can also automatically calculate derived variables, e.g.:"
   ]
  },
  {
   "cell_type": "code",
   "execution_count": 12,
   "id": "7d937ab7-38a4-450d-9d1f-c3e61b6c17b8",
   "metadata": {},
   "outputs": [
    {
     "data": {
      "text/latex": [
       "$[0.047683305,~0.051932027,~0.062408416,~\\dots,~0.00059778414,~2.5242395 \\times 10^{-5},~0.00080112483] \\;\\mathrm{\\frac{1}{arepo\\_length}}\\times\\mathrm{\\frac{h}{a}}$"
      ],
      "text/plain": [
       "<PaicosQuantity [4.76833045e-02, 5.19320271e-02, 6.24084163e-02, ...,\n",
       "                 5.97784143e-04, 2.52423954e-05, 8.01124829e-04] small_h / (arepo_length small_a)>"
      ]
     },
     "execution_count": 12,
     "metadata": {},
     "output_type": "execute_result"
    }
   ],
   "source": [
    "snap['0_Volume']\n",
    "snap['0_TemperaturesTimesMasses']\n",
    "snap['0_VelocityCurvature']"
   ]
  },
  {
   "attachments": {},
   "cell_type": "markdown",
   "id": "8a80291a-21c0-4236-9754-fd1ad38a0240",
   "metadata": {},
   "source": [
    "## Making projections\n",
    "\n",
    "We now use the Paicos projector class, the 'widths' vector is the size of the considered box in x,y,z coordinates. This box is centered at 'center' vector.\n",
    "\n",
    "The direction can be set to 'x', 'y' or 'z'. If the direction is 'z' (as below) then widths[2] is the depth of the projection and the 2D returned array is in the xy plane.\n",
    "\n",
    "npix is the number of pixels in the horizontal direction of the image. The width/height ratio should be such that $$npix*height/width$$ is an integer.\n",
    "\n",
    "There are two projector classes: Projector and TreeProjector. The first one is an SPH projector and the latter a tree projector.\n",
    "\n",
    "**Important**: When using the TreeProjector class, you should pay attention to the parameter \"additive\" (previously \"extrinsic\") which is set to True by default. If additive=True (e.g. mass), the projector creates multiple slices which are summed. If additive=False (e.g. density), the projector takes the mean of multiples slices. One should think about whether the quantity they want to project is extrinsic or intrinsic."
   ]
  },
  {
   "cell_type": "code",
   "execution_count": 13,
   "id": "2d8c59e9-d78a-4e0f-9f6b-76d5350fbfdd",
   "metadata": {},
   "outputs": [
    {
     "name": "stderr",
     "output_type": "stream",
     "text": [
      "/home/lena/analysis/paicos/paicos/readers/arepo_snap.py:311: UserWarning: Deleting the user function: <function JetTracerTimesVolume at 0x7faa7260cc10> because its dependency: ['0_Jet_Tracer'] is missing\n",
      "  warnings.warn(msg)\n"
     ]
    }
   ],
   "source": [
    "widths = [26000, 13000, 10000]\n",
    "projector = pa.Projector(snap, center, widths, 'z', npix=2048)"
   ]
  },
  {
   "attachments": {},
   "cell_type": "markdown",
   "id": "1aec40de-356b-4af5-ae4f-b23a561be52f",
   "metadata": {},
   "source": [
    "We can call the project_variable method as below. This method can take a number of standard strings (which then internally calls the get_variable function, see further details below) or it can take an array. Both methods are shown below."
   ]
  },
  {
   "cell_type": "code",
   "execution_count": 14,
   "id": "4211098e-f161-4097-999a-9f7b0e69ca38",
   "metadata": {},
   "outputs": [
    {
     "data": {
      "text/latex": [
       "$[[5.9782661 \\times 10^{-10},~5.9890422 \\times 10^{-10},~5.9994487 \\times 10^{-10},~\\dots,~2.7432753 \\times 10^{-9},~2.727231 \\times 10^{-9},~2.7089319 \\times 10^{-9}],~\n",
       " [5.9908648 \\times 10^{-10},~6.0014693 \\times 10^{-10},~6.0116884 \\times 10^{-10},~\\dots,~2.7563815 \\times 10^{-9},~2.7409004 \\times 10^{-9},~2.7232355 \\times 10^{-9}],~\n",
       " [6.0030373 \\times 10^{-10},~6.0134729 \\times 10^{-10},~6.0235131 \\times 10^{-10},~\\dots,~2.7693497 \\times 10^{-9},~2.752779 \\times 10^{-9},~2.7356762 \\times 10^{-9}],~\n",
       " \\dots,~\n",
       " [2.6839807 \\times 10^{-9},~2.695773 \\times 10^{-9},~2.7058709 \\times 10^{-9},~\\dots,~1.0473936 \\times 10^{-9},~1.0495644 \\times 10^{-9},~1.0517978 \\times 10^{-9}],~\n",
       " [2.677919 \\times 10^{-9},~2.6901935 \\times 10^{-9},~2.7006991 \\times 10^{-9},~\\dots,~1.0506648 \\times 10^{-9},~1.0528881 \\times 10^{-9},~1.0551763 \\times 10^{-9}],~\n",
       " [2.6708956 \\times 10^{-9},~2.683726 \\times 10^{-9},~2.6947015 \\times 10^{-9},~\\dots,~1.0540562 \\times 10^{-9},~1.0563348 \\times 10^{-9},~1.0586806 \\times 10^{-9}]] \\;\\mathrm{arepo\\_density}\\times\\mathrm{\\frac{h^{2}}{a^{3}}}$"
      ],
      "text/plain": [
       "<PaicosQuantity [[5.97826609e-10, 5.98904216e-10, 5.99944873e-10, ...,\n",
       "                  2.74327529e-09, 2.72723099e-09, 2.70893193e-09],\n",
       "                 [5.99086484e-10, 6.00146927e-10, 6.01168837e-10, ...,\n",
       "                  2.75638145e-09, 2.74090042e-09, 2.72323553e-09],\n",
       "                 [6.00303730e-10, 6.01347285e-10, 6.02351306e-10, ...,\n",
       "                  2.76934974e-09, 2.75277902e-09, 2.73567615e-09],\n",
       "                 ...,\n",
       "                 [2.68398067e-09, 2.69577298e-09, 2.70587085e-09, ...,\n",
       "                  1.04739363e-09, 1.04956438e-09, 1.05179782e-09],\n",
       "                 [2.67791900e-09, 2.69019352e-09, 2.70069908e-09, ...,\n",
       "                  1.05066476e-09, 1.05288808e-09, 1.05517628e-09],\n",
       "                 [2.67089558e-09, 2.68372597e-09, 2.69470154e-09, ...,\n",
       "                  1.05405620e-09, 1.05633479e-09, 1.05868058e-09]] arepo_density small_h2 / small_a3>"
      ]
     },
     "execution_count": 14,
     "metadata": {},
     "output_type": "execute_result"
    }
   ],
   "source": [
    "Masses = projector.project_variable('0_Masses')\n",
    "Volumes = projector.project_variable(snap['0_Volume'])\n",
    "rho = Masses/Volumes\n",
    "\n",
    "rho"
   ]
  },
  {
   "attachments": {},
   "cell_type": "markdown",
   "id": "c9962fe5",
   "metadata": {},
   "source": [
    "In general, one should not project quantities without using a weight: $\\overline{x} = \\frac{\\sum_{i=1}^{n} w_i x_i}{\\sum_{i=1}^{n} w_i}$\n",
    "\n",
    "For example, instead of projecting temperature, one could project temperature with a mass weighting"
   ]
  },
  {
   "cell_type": "code",
   "execution_count": 23,
   "id": "9ee3618e",
   "metadata": {},
   "outputs": [
    {
     "data": {
      "text/plain": [
       "<matplotlib.image.AxesImage at 0x7faa556b9570>"
      ]
     },
     "execution_count": 23,
     "metadata": {},
     "output_type": "execute_result"
    },
    {
     "data": {
      "image/png": "[encoded data removed]",
      "text/plain": [
       "<Figure size 640x480 with 1 Axes>"
      ]
     },
     "metadata": {},
     "output_type": "display_data"
    }
   ],
   "source": [
    "TemperatureTimesMasses = projector.project_variable('0_TemperaturesTimesMasses')\n",
    "temperature = TemperatureTimesMasses/Masses\n",
    "\n",
    "%matplotlib inline\n",
    "import matplotlib.pyplot as plt\n",
    "from matplotlib.colors import LogNorm\n",
    "plt.rc('image', origin='lower', cmap='RdPu', interpolation='None')\n",
    "plt.imshow(temperature, cmap='RdPu', extent=projector.extent.value, norm=LogNorm())"
   ]
  },
  {
   "attachments": {},
   "cell_type": "markdown",
   "id": "b515805a-f521-43ae-8714-6fdb8d3991ff",
   "metadata": {},
   "source": [
    "We can now plot the projected density"
   ]
  },
  {
   "cell_type": "code",
   "execution_count": null,
   "id": "9ac3bf07-f6ce-46c8-8295-f9dc9fe0b69e",
   "metadata": {},
   "outputs": [],
   "source": [
    "%matplotlib inline\n",
    "import matplotlib.pyplot as plt\n",
    "from matplotlib.colors import LogNorm\n",
    "plt.rc('image', origin='lower', cmap='RdBu_r', interpolation='None')\n",
    "plt.imshow(rho, cmap='YlGnBu', extent=projector.extent.value, norm=LogNorm())\n",
    "# plt.savefig('Z24_snap130_wide_projection.pdf', dpi=2000, bbox_inches='tight')"
   ]
  },
  {
   "attachments": {},
   "cell_type": "markdown",
   "id": "c9dd6da5-bad4-4e61-9d02-e11766ee8e4c",
   "metadata": {},
   "source": [
    "## Making slices\n",
    "\n",
    "Next, we will take a look at making a slice through the simulation. The width is by definition zero, and the user has to set this explicitly by setting a zero in the 'widths' vector. Below we show a slice of density, comparing with the projected density."
   ]
  },
  {
   "cell_type": "code",
   "execution_count": null,
   "id": "9c6df2b9-000b-485d-a9d5-65dcbffa366b",
   "metadata": {},
   "outputs": [],
   "source": [
    "widths = [26000, 13000, 0]\n",
    "slicer = pa.Slicer(snap, center, widths, 'z', npix=2048)"
   ]
  },
  {
   "cell_type": "code",
   "execution_count": null,
   "id": "5fead735-e7b6-4cbb-b2af-33b7d393b3de",
   "metadata": {},
   "outputs": [],
   "source": [
    "plt.figure(1)\n",
    "plt.clf()\n",
    "fix, axes = plt.subplots(nrows=2)\n",
    "\n",
    "# Slice by passing an array\n",
    "rho_slice = slicer.slice_variable(snap['0_Density'])\n",
    "\n",
    "# Slice by passing a string (see snap.info(0) for the available strings)\n",
    "rho_slice = slicer.slice_variable('0_Density')\n",
    "\n",
    "# Now plot slice and projection next to each other\n",
    "axes[0].imshow(rho_slice.to_physical, norm=LogNorm())\n",
    "axes[1].imshow(rho, norm=LogNorm())\n",
    "axes[0].set_title('Slice')\n",
    "axes[1].set_title('Projected')\n",
    "for ii in range(2):\n",
    "    axes[ii].set_axis_off()\n",
    "# plt.savefig('halo3_Z12_slice_projec_comparison.pdf', dpi=2000, bbox_inches='tight')"
   ]
  },
  {
   "attachments": {},
   "cell_type": "markdown",
   "id": "6e67f5ce-fa6a-489e-af2a-de9a674054ab",
   "metadata": {},
   "source": [
    "We can also make slices of other variables. The Slicer object stores the required information (indices of the Voronoi cells closest to the image grid points), so the computing time needed for making additional slices is neglibible.\n",
    "\n",
    "Let us for instance consider the enstrophy which gives an indication of the amount of turbulence in the galaxy cluster.\n",
    "It is defined as\n",
    "\n",
    "1/2|∇×v|²\n",
    "\n",
    "and can be found from the 'VelocityGradient' field (the 3x3 tensor of velocity derivatives, ∂ᵢvⱼ). This is done internally below:"
   ]
  },
  {
   "cell_type": "code",
   "execution_count": null,
   "id": "62492c02-669f-4c00-b33e-6c04cd1a929c",
   "metadata": {},
   "outputs": [],
   "source": [
    "extent = slicer.extent.to('Mpc')\n",
    "\n",
    "plt.imshow(slicer.slice_variable('0_Enstrophy'),\n",
    "           extent=extent.value,\n",
    "           norm=LogNorm())"
   ]
  },
  {
   "attachments": {},
   "cell_type": "markdown",
   "id": "6a7d496b-633c-4ffd-89d4-6397f5e08c60",
   "metadata": {},
   "source": [
    "## Storing image data\n",
    "\n",
    "The computing time for slices, and in particular, projections, is often quite long. It is therefore convenient to be able to store the image data so that this step is de-coupled from the often many matplotlib iterations.\n",
    "\n",
    "Below I illustrate how to save an Arepo image, created using either a Projector or Slicer object."
   ]
  },
  {
   "cell_type": "code",
   "execution_count": null,
   "id": "b40db898-31d8-4422-9730-76a933b446b4",
   "metadata": {},
   "outputs": [],
   "source": [
    "image_file = pa.ArepoImage(slicer, basedir=pa.root_dir + '/data/',\n",
    "                           basename='test_arepo_image_format')\n",
    "\n",
    "image_file.save_image('Density', slicer.slice_variable('0_Density'))\n",
    "image_file.save_image('Enstrophy', slicer.slice_variable('0_Enstrophy'))\n",
    "\n",
    "image_file.finalize()"
   ]
  },
  {
   "attachments": {},
   "cell_type": "markdown",
   "id": "40cf63cb-b1bb-4beb-b6f7-561cb28a641e",
   "metadata": {},
   "source": [
    "The constructed file is found at:"
   ]
  },
  {
   "cell_type": "code",
   "execution_count": null,
   "id": "de6f3c71-b77e-4953-85d1-af8099322c8a",
   "metadata": {},
   "outputs": [],
   "source": [
    "image_file.filename"
   ]
  },
  {
   "attachments": {},
   "cell_type": "markdown",
   "id": "adcfa4e7-96a5-44a2-bef1-22e59c48a887",
   "metadata": {},
   "source": [
    "Now lets open this image and looks at its contents:"
   ]
  },
  {
   "cell_type": "code",
   "execution_count": null,
   "id": "0303d29a-6235-489a-a5e0-9e4a0d20f3c9",
   "metadata": {},
   "outputs": [],
   "source": [
    "import h5py\n",
    "f = h5py.File(image_file.filename, 'r')"
   ]
  },
  {
   "cell_type": "code",
   "execution_count": null,
   "id": "0284726e-81cd-4c87-beb3-07ea5020bfa8",
   "metadata": {},
   "outputs": [],
   "source": [
    "list(f.keys())"
   ]
  },
  {
   "attachments": {},
   "cell_type": "markdown",
   "id": "8eb8d9c5-94eb-431e-a5dd-b44895028db5",
   "metadata": {},
   "source": [
    "Here 'Config', 'Header', 'Parameters' are groups copied over from the snapshot file used to create the image (.0.hdf5 when there are multiple files). 'Density' and 'Enstrophy' is 2D array with the saved images. The group 'image_info' contains essential information about the image, namely:"
   ]
  },
  {
   "cell_type": "code",
   "execution_count": null,
   "id": "4035f92a-0f9b-47d3-83b4-22ecab296655",
   "metadata": {},
   "outputs": [],
   "source": [
    "print(f['image_info'].keys())\n",
    "print(f['image_info'].attrs.keys())"
   ]
  },
  {
   "attachments": {},
   "cell_type": "markdown",
   "id": "9a4d90fc-c99a-4b4e-aefe-b0638d7c26fb",
   "metadata": {},
   "source": [
    "We can plot the image and use 'image_info' to get the extent of the image."
   ]
  },
  {
   "cell_type": "code",
   "execution_count": null,
   "id": "1f70643f-e898-417c-811c-2bc5058134c3",
   "metadata": {},
   "outputs": [],
   "source": [
    "im = plt.imshow(f['Density'], extent=f['image_info']['extent'], norm=LogNorm())\n",
    "cbar = plt.colorbar(im, fraction=0.025, pad=0.04)"
   ]
  },
  {
   "attachments": {},
   "cell_type": "markdown",
   "id": "8c610318-ba0d-4993-992f-a2871648645d",
   "metadata": {},
   "source": [
    "## Getting the units right\n",
    "\n",
    "The plot above is still in comoving code units, we can use the ImageReader class to automatically get the image data in the form of PaicosQuantities (i.e. with units and in-built methods for manipulation). All the relevant information is stored in the image file, e.g.:"
   ]
  },
  {
   "cell_type": "code",
   "execution_count": null,
   "id": "3fbc1381-6576-45de-be56-2005bbbd1ae6",
   "metadata": {},
   "outputs": [],
   "source": [
    "dict(f['Density'].attrs)"
   ]
  },
  {
   "cell_type": "code",
   "execution_count": null,
   "id": "2d56d774-2663-429e-81de-889463efa39d",
   "metadata": {},
   "outputs": [],
   "source": [
    "im = pa.ImageReader(basedir=pa.root_dir + '/data/', snapnum=130,\n",
    "                 basename='test_arepo_image_format')\n",
    "\n",
    "extent = im.extent.to('Mpc').no_small_h #.to_physical\n",
    "rho = im['Density'].to_physical\n",
    "rho = rho.astro\n",
    "rho = rho.cgs\n",
    "image = plt.imshow(rho, extent=extent.value, norm=LogNorm())\n",
    "cbar = plt.colorbar(image, fraction=0.025, pad=0.04)\n",
    "cbar.set_label(rho.label('\\\\rho'))\n",
    "plt.xlabel(extent.label('x'))\n",
    "plt.ylabel(extent.label('y'))"
   ]
  },
  {
   "cell_type": "code",
   "execution_count": null,
   "id": "1d02bea7-2c3e-4ffb-abcb-a3798c431c8c",
   "metadata": {},
   "outputs": [],
   "source": []
  }
 ],
 "metadata": {
  "kernelspec": {
   "display_name": "Python 3 (ipykernel)",
   "language": "python",
   "name": "python3"
  },
  "language_info": {
   "codemirror_mode": {
    "name": "ipython",
    "version": 3
   },
   "file_extension": ".py",
   "mimetype": "text/x-python",
   "name": "python",
   "nbconvert_exporter": "python",
   "pygments_lexer": "ipython3",
   "version": "3.10.8"
  }
 },
 "nbformat": 4,
 "nbformat_minor": 5
}
